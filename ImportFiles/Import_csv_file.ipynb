{
 "cells": [
  {
   "cell_type": "markdown",
   "id": "39631e09-ab60-4026-81ed-13b34c613410",
   "metadata": {},
   "source": [
    "<h2>Read/Save Other Data Formats</h2>\n",
    "\n",
    "| Data Format  |        Read       |            Save |\n",
    "| ------------ | :---------------: | --------------: |\n",
    "| csv          |  `pd.read_csv()`  |   `df.to_csv()` |\n",
    "| ...          |        ...        |             ... |"
   ]
  },
  {
   "cell_type": "markdown",
   "id": "535a407e-9eaa-41d5-a9d7-80de5dbb4f6b",
   "metadata": {},
   "source": [
    "## **Comma-separated values (.csv) file format**\n",
    "\n",
    "A CSV file is a comma-separated values file containing plain text data sets separated by commas, with each new line in the CSV file representing a new database row and each database row consisting of one or more fields separated by a comma."
   ]
  },
  {
   "cell_type": "code",
   "execution_count": 1,
   "id": "f3c5a491-4a6d-4e38-8cf8-ff74466063d3",
   "metadata": {},
   "outputs": [
    {
     "name": "stdout",
     "output_type": "stream",
     "text": [
      "               date  Usage_kWh  Lagging_Current_Reactive.Power_kVarh  \\\n",
      "0  01/01/2018 00:15       3.17                                  2.95   \n",
      "1  01/01/2018 00:30       4.00                                  4.46   \n",
      "2  01/01/2018 00:45       3.24                                  3.28   \n",
      "3  01/01/2018 01:00       3.31                                  3.56   \n",
      "4  01/01/2018 01:15       3.82                                  4.50   \n",
      "\n",
      "   Leading_Current_Reactive_Power_kVarh  CO2(tCO2)  \\\n",
      "0                                   0.0        0.0   \n",
      "1                                   0.0        0.0   \n",
      "2                                   0.0        0.0   \n",
      "3                                   0.0        0.0   \n",
      "4                                   0.0        0.0   \n",
      "\n",
      "   Lagging_Current_Power_Factor  Leading_Current_Power_Factor   NSM  \\\n",
      "0                         73.21                         100.0   900   \n",
      "1                         66.77                         100.0  1800   \n",
      "2                         70.28                         100.0  2700   \n",
      "3                         68.09                         100.0  3600   \n",
      "4                         64.72                         100.0  4500   \n",
      "\n",
      "  WeekStatus Day_of_week   Load_Type  \n",
      "0    Weekday      Monday  Light_Load  \n",
      "1    Weekday      Monday  Light_Load  \n",
      "2    Weekday      Monday  Light_Load  \n",
      "3    Weekday      Monday  Light_Load  \n",
      "4    Weekday      Monday  Light_Load  \n"
     ]
    }
   ],
   "source": [
    "import pandas as pd\n",
    "\n",
    "path = 'https://archive.ics.uci.edu/ml/machine-learning-databases/00618/Steel_industry_data.csv'\n",
    "\n",
    "df = pd.read_csv(path)\n",
    "print(df.head(5))"
   ]
  },
  {
   "cell_type": "code",
   "execution_count": null,
   "id": "85485e98-1a08-4dd0-975b-f26b9f6f119c",
   "metadata": {},
   "outputs": [],
   "source": []
  }
 ],
 "metadata": {
  "kernelspec": {
   "display_name": "Python 3 (ipykernel)",
   "language": "python",
   "name": "python3"
  },
  "language_info": {
   "codemirror_mode": {
    "name": "ipython",
    "version": 3
   },
   "file_extension": ".py",
   "mimetype": "text/x-python",
   "name": "python",
   "nbconvert_exporter": "python",
   "pygments_lexer": "ipython3",
   "version": "3.9.12"
  }
 },
 "nbformat": 4,
 "nbformat_minor": 5
}
